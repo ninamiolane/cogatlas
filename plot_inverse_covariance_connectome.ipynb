{
 "cells": [
  {
   "cell_type": "code",
   "execution_count": 17,
   "metadata": {},
   "outputs": [
    {
     "ename": "ModuleNotFoundError",
     "evalue": "No module named 'urllib.urlretrieve'",
     "output_type": "error",
     "traceback": [
      "\u001b[0;31m---------------------------------------------------------------------------\u001b[0m",
      "\u001b[0;31mModuleNotFoundError\u001b[0m                       Traceback (most recent call last)",
      "\u001b[0;32m<ipython-input-17-2d57bb04046b>\u001b[0m in \u001b[0;36m<module>\u001b[0;34m()\u001b[0m\n\u001b[1;32m      1\u001b[0m \u001b[0mget_ipython\u001b[0m\u001b[0;34m(\u001b[0m\u001b[0;34m)\u001b[0m\u001b[0;34m.\u001b[0m\u001b[0mmagic\u001b[0m\u001b[0;34m(\u001b[0m\u001b[0;34m'matplotlib inline'\u001b[0m\u001b[0;34m)\u001b[0m\u001b[0;34m\u001b[0m\u001b[0m\n\u001b[0;32m----> 2\u001b[0;31m \u001b[0;32mimport\u001b[0m \u001b[0murllib\u001b[0m\u001b[0;34m.\u001b[0m\u001b[0murlretrieve\u001b[0m\u001b[0;34m\u001b[0m\u001b[0m\n\u001b[0m\u001b[1;32m      3\u001b[0m \u001b[0;32mimport\u001b[0m \u001b[0murllib\u001b[0m\u001b[0;34m.\u001b[0m\u001b[0mrequest\u001b[0m\u001b[0;34m,\u001b[0m \u001b[0mjson\u001b[0m\u001b[0;34m\u001b[0m\u001b[0m\n\u001b[1;32m      4\u001b[0m \u001b[0;32mfrom\u001b[0m \u001b[0mpandas\u001b[0m\u001b[0;34m.\u001b[0m\u001b[0mio\u001b[0m\u001b[0;34m.\u001b[0m\u001b[0mjson\u001b[0m \u001b[0;32mimport\u001b[0m \u001b[0mjson_normalize\u001b[0m\u001b[0;34m\u001b[0m\u001b[0m\n",
      "\u001b[0;31mModuleNotFoundError\u001b[0m: No module named 'urllib.urlretrieve'"
     ]
    }
   ],
   "source": [
    "%matplotlib inline\n",
    "import json\n",
    "import pandas as pd\n",
    "import urllib.request\n",
    "from pandas.io.json import json_normalize"
   ]
  },
  {
   "cell_type": "markdown",
   "metadata": {},
   "source": [
    "\n",
    "Computing a connectome with sparse inverse covariance\n",
    "=======================================================\n",
    "\n",
    "This example constructs a functional connectome using the sparse inverse\n",
    "covariance.\n",
    "\n",
    "We use the `MSDL atlas\n",
    "<https://team.inria.fr/parietal/18-2/spatial_patterns/spatial-patterns-in-resting-state/>`_\n",
    "of functional regions in rest, and the\n",
    ":class:`nilearn.input_data.NiftiMapsMasker` to extract time series.\n",
    "\n",
    "Note that the inverse covariance (or precision) contains values that can\n",
    "be linked to *negated* partial correlations, so we negated it for\n",
    "display.\n",
    "\n",
    "As the MSDL atlas comes with (x, y, z) MNI coordinates for the different\n",
    "regions, we can visualize the matrix as a graph of interaction in a\n",
    "brain. To avoid having too dense a graph, we represent only the 20% edges\n",
    "with the highest values.\n",
    "\n",
    "\n"
   ]
  },
  {
   "cell_type": "markdown",
   "metadata": {},
   "source": [
    "Retrieve the atlas and the data\n",
    "--------------------------------\n",
    "\n"
   ]
  },
  {
   "cell_type": "code",
   "execution_count": 1,
   "metadata": {},
   "outputs": [
    {
     "name": "stderr",
     "output_type": "stream",
     "text": [
      "/usr/local/lib/python3.6/site-packages/dicom/__init__.py:53: UserWarning: \n",
      "This code is using an older version of pydicom, which is no longer \n",
      "maintained as of Jan 2017.  You can access the new pydicom features and API \n",
      "by installing `pydicom` from PyPI.\n",
      "See 'Transitioning to pydicom 1.x' section at pydicom.readthedocs.org \n",
      "for more information.\n",
      "\n",
      "  warnings.warn(msg)\n",
      "/usr/local/lib/python3.6/site-packages/h5py/__init__.py:34: FutureWarning: Conversion of the second argument of issubdtype from `float` to `np.floating` is deprecated. In future, it will be treated as `np.float64 == np.dtype(float).type`.\n",
      "  from ._conv import register_converters as _register_converters\n"
     ]
    },
    {
     "name": "stdout",
     "output_type": "stream",
     "text": [
      "\n",
      "Dataset created in /Users/nina/nilearn_data/msdl_atlas\n",
      "\n",
      "Downloading data from https://team.inria.fr/parietal/files/2015/01/MSDL_rois.zip ...\n"
     ]
    },
    {
     "name": "stderr",
     "output_type": "stream",
     "text": [
      "\r",
      "Downloaded 204800 of 209734 bytes (97.6%,    0.0s remaining)\r",
      "Downloaded 209734 of 209734 bytes (100.0%,    0.0s remaining) ...done. (2 seconds, 0 min)\n",
      "Extracting data from /Users/nina/nilearn_data/msdl_atlas/5d25e157f36214b8ca9a12fd417aac1c/MSDL_rois.zip..... done.\n",
      "/usr/local/lib/python3.6/site-packages/numpy/lib/npyio.py:2266: VisibleDeprecationWarning: Reading unicode strings without specifying the encoding argument is deprecated. Set the encoding, use None for the system default.\n",
      "  output = genfromtxt(fname, **kwargs)\n"
     ]
    },
    {
     "name": "stdout",
     "output_type": "stream",
     "text": [
      "\n",
      "Dataset created in /Users/nina/nilearn_data/adhd\n",
      "\n",
      "Downloading data from https://www.nitrc.org/frs/download.php/7781/adhd40_metadata.tgz ...\n"
     ]
    },
    {
     "name": "stderr",
     "output_type": "stream",
     "text": [
      "\r",
      "Downloaded 3072 of 3072 bytes (100.0%,    0.0s remaining) ...done. (0 seconds, 0 min)\n",
      "Extracting data from /Users/nina/nilearn_data/adhd/74a52d3552145e11365bb68453d1a70c/adhd40_metadata.tgz..... done.\n",
      "/usr/local/lib/python3.6/site-packages/nilearn/datasets/func.py:501: VisibleDeprecationWarning: Reading unicode strings without specifying the encoding argument is deprecated. Set the encoding, use None for the system default.\n",
      "  dtype=None)\n"
     ]
    },
    {
     "name": "stdout",
     "output_type": "stream",
     "text": [
      "Downloading data from https://www.nitrc.org/frs/download.php/7782/adhd40_0010042.tgz ...\n"
     ]
    },
    {
     "name": "stderr",
     "output_type": "stream",
     "text": [
      "Downloaded 44414948 of 44414948 bytes (100.0%,    0.0s remaining) ...done. (47 seconds, 0 min)\n",
      "Extracting data from /Users/nina/nilearn_data/adhd/26dc434877313cabfa02a4e93691edaf/adhd40_0010042.tgz..."
     ]
    },
    {
     "name": "stdout",
     "output_type": "stream",
     "text": [
      "First subject functional nifti images (4D) are at: /Users/nina/nilearn_data/adhd/data/0010042/0010042_rest_tshift_RPI_voreg_mni.nii.gz\n"
     ]
    },
    {
     "name": "stderr",
     "output_type": "stream",
     "text": [
      ".. done.\n"
     ]
    }
   ],
   "source": [
    "from nilearn import datasets\n",
    "atlas = datasets.fetch_atlas_msdl()\n",
    "# Loading atlas image stored in 'maps'\n",
    "atlas_filename = atlas['maps']\n",
    "# Loading atlas data stored in 'labels'\n",
    "labels = atlas['labels']\n",
    "\n",
    "# Loading the functional datasets\n",
    "data = datasets.fetch_adhd(n_subjects=1)\n",
    "\n",
    "# TODO(nina): Load data from api\n",
    "\n",
    "\n",
    "\n",
    "# print basic information on the dataset\n",
    "print('First subject functional nifti images (4D) are at: %s' %\n",
    "      data.func[0])  # 4D data"
   ]
  },
  {
   "cell_type": "code",
   "execution_count": 35,
   "metadata": {
    "collapsed": true
   },
   "outputs": [],
   "source": [
    "# TODO(nina): extract nii of matching tasks id\n",
    "\n",
    "url_root = 'https://neurovault.org/api/images/'\n",
    "\n",
    "page = 100\n",
    "dfs = []\n",
    "nii_files = []\n",
    "nii_data = []\n",
    "while True:\n",
    "    page_url = url_root + '?offset=%d' % page\n",
    "\n",
    "    with urllib.request.urlopen(page_url) as url:\n",
    "        data = json.loads(url.read().decode())\n",
    "        results = pandas.io.json.json_normalize(data['results'])\n",
    "        #nii_file = urllib.parse.quote(str(results['file']))\n",
    "        nii_files = results['file']\n",
    "        nii_ids = results['id']\n",
    " \n",
    "        for one_nii, one_id in zip(nii_files, nii_ids):\n",
    "            urllib.request.urlretrieve(one_nii, '/Users/nina/code/mental_tasks/data/{}.nii.gz'.format(one_id))\n",
    "        \n",
    "        if data['next'] is 'null':\n",
    "            break\n",
    "        else:\n",
    "            page += 100\n",
    "        if page > 200:\n",
    "            break\n",
    "            \n",
    "    "
   ]
  },
  {
   "cell_type": "markdown",
   "metadata": {},
   "source": [
    "Extract time series\n",
    "--------------------\n",
    "\n"
   ]
  },
  {
   "cell_type": "code",
   "execution_count": null,
   "metadata": {
    "collapsed": true
   },
   "outputs": [],
   "source": [
    "from nilearn.input_data import NiftiMapsMasker\n",
    "masker = NiftiMapsMasker(maps_img=atlas_filename, standardize=True,\n",
    "                         memory='nilearn_cache', verbose=5)\n",
    "\n",
    "time_series = masker.fit_transform(data.func[0],\n",
    "                                   confounds=data.confounds)"
   ]
  },
  {
   "cell_type": "markdown",
   "metadata": {},
   "source": [
    "Compute the sparse inverse covariance\n",
    "--------------------------------------\n",
    "\n"
   ]
  },
  {
   "cell_type": "code",
   "execution_count": null,
   "metadata": {
    "collapsed": true
   },
   "outputs": [],
   "source": [
    "from sklearn.covariance import GraphLassoCV\n",
    "estimator = GraphLassoCV()\n",
    "\n",
    "estimator.fit(time_series)"
   ]
  },
  {
   "cell_type": "markdown",
   "metadata": {},
   "source": [
    "Display the connectome matrix\n",
    "------------------------------\n",
    "\n"
   ]
  },
  {
   "cell_type": "code",
   "execution_count": null,
   "metadata": {
    "collapsed": true
   },
   "outputs": [],
   "source": [
    "from nilearn import plotting\n",
    "# Display the covariance\n",
    "\n",
    "# The covariance can be found at estimator.covariance_\n",
    "plotting.plot_matrix(estimator.covariance_, labels=labels,\n",
    "                     figure=(9, 7), vmax=1, vmin=-1,\n",
    "                     title='Covariance')"
   ]
  },
  {
   "cell_type": "markdown",
   "metadata": {},
   "source": [
    "And now display the corresponding graph\n",
    "----------------------------------------\n",
    "\n"
   ]
  },
  {
   "cell_type": "code",
   "execution_count": null,
   "metadata": {
    "collapsed": true
   },
   "outputs": [],
   "source": [
    "coords = atlas.region_coords\n",
    "\n",
    "plotting.plot_connectome(estimator.covariance_, coords,\n",
    "                         title='Covariance')"
   ]
  },
  {
   "cell_type": "markdown",
   "metadata": {},
   "source": [
    "Display the sparse inverse covariance\n",
    "--------------------------------------\n",
    "we negate it to get partial correlations\n",
    "\n"
   ]
  },
  {
   "cell_type": "code",
   "execution_count": null,
   "metadata": {
    "collapsed": true
   },
   "outputs": [],
   "source": [
    "plotting.plot_matrix(-estimator.precision_, labels=labels,\n",
    "                     figure=(9, 7), vmax=1, vmin=-1,\n",
    "                     title='Sparse inverse covariance')"
   ]
  },
  {
   "cell_type": "markdown",
   "metadata": {},
   "source": [
    "And now display the corresponding graph\n",
    "----------------------------------------\n",
    "\n"
   ]
  },
  {
   "cell_type": "code",
   "execution_count": null,
   "metadata": {
    "collapsed": true
   },
   "outputs": [],
   "source": [
    "plotting.plot_connectome(-estimator.precision_, coords,\n",
    "                         title='Sparse inverse covariance')\n",
    "\n",
    "plotting.show()"
   ]
  }
 ],
 "metadata": {
  "kernelspec": {
   "display_name": "Python 3",
   "language": "python",
   "name": "python3"
  },
  "language_info": {
   "codemirror_mode": {
    "name": "ipython",
    "version": 3
   },
   "file_extension": ".py",
   "mimetype": "text/x-python",
   "name": "python",
   "nbconvert_exporter": "python",
   "pygments_lexer": "ipython3",
   "version": "3.6.5"
  }
 },
 "nbformat": 4,
 "nbformat_minor": 1
}
