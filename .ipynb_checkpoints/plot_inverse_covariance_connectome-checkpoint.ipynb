{
 "cells": [
  {
   "cell_type": "code",
   "execution_count": null,
   "metadata": {},
   "outputs": [],
   "source": [
    "%matplotlib inline"
   ]
  },
  {
   "cell_type": "markdown",
   "metadata": {},
   "source": [
    "\n",
    "Computing a connectome with sparse inverse covariance\n",
    "=======================================================\n",
    "\n",
    "This example constructs a functional connectome using the sparse inverse\n",
    "covariance.\n",
    "\n",
    "We use the `MSDL atlas\n",
    "<https://team.inria.fr/parietal/18-2/spatial_patterns/spatial-patterns-in-resting-state/>`_\n",
    "of functional regions in rest, and the\n",
    ":class:`nilearn.input_data.NiftiMapsMasker` to extract time series.\n",
    "\n",
    "Note that the inverse covariance (or precision) contains values that can\n",
    "be linked to *negated* partial correlations, so we negated it for\n",
    "display.\n",
    "\n",
    "As the MSDL atlas comes with (x, y, z) MNI coordinates for the different\n",
    "regions, we can visualize the matrix as a graph of interaction in a\n",
    "brain. To avoid having too dense a graph, we represent only the 20% edges\n",
    "with the highest values.\n",
    "\n",
    "\n"
   ]
  },
  {
   "cell_type": "markdown",
   "metadata": {},
   "source": [
    "Retrieve the atlas and the data\n",
    "--------------------------------\n",
    "\n"
   ]
  },
  {
   "cell_type": "code",
   "execution_count": null,
   "metadata": {},
   "outputs": [],
   "source": [
    "from nilearn import datasets\n",
    "atlas = datasets.fetch_atlas_msdl()\n",
    "# Loading atlas image stored in 'maps'\n",
    "atlas_filename = atlas['maps']\n",
    "# Loading atlas data stored in 'labels'\n",
    "labels = atlas['labels']\n",
    "\n",
    "# Loading the functional datasets\n",
    "data = datasets.fetch_adhd(n_subjects=1)\n",
    "\n",
    "# print basic information on the dataset\n",
    "print('First subject functional nifti images (4D) are at: %s' %\n",
    "      data.func[0])  # 4D data"
   ]
  },
  {
   "cell_type": "markdown",
   "metadata": {},
   "source": [
    "Extract time series\n",
    "--------------------\n",
    "\n"
   ]
  },
  {
   "cell_type": "code",
   "execution_count": null,
   "metadata": {},
   "outputs": [],
   "source": [
    "from nilearn.input_data import NiftiMapsMasker\n",
    "masker = NiftiMapsMasker(maps_img=atlas_filename, standardize=True,\n",
    "                         memory='nilearn_cache', verbose=5)\n",
    "\n",
    "time_series = masker.fit_transform(data.func[0],\n",
    "                                   confounds=data.confounds)"
   ]
  },
  {
   "cell_type": "markdown",
   "metadata": {},
   "source": [
    "Compute the sparse inverse covariance\n",
    "--------------------------------------\n",
    "\n"
   ]
  },
  {
   "cell_type": "code",
   "execution_count": null,
   "metadata": {},
   "outputs": [],
   "source": [
    "from sklearn.covariance import GraphLassoCV\n",
    "estimator = GraphLassoCV()\n",
    "\n",
    "estimator.fit(time_series)"
   ]
  },
  {
   "cell_type": "markdown",
   "metadata": {},
   "source": [
    "Display the connectome matrix\n",
    "------------------------------\n",
    "\n"
   ]
  },
  {
   "cell_type": "code",
   "execution_count": null,
   "metadata": {},
   "outputs": [],
   "source": [
    "from nilearn import plotting\n",
    "# Display the covariance\n",
    "\n",
    "# The covariance can be found at estimator.covariance_\n",
    "plotting.plot_matrix(estimator.covariance_, labels=labels,\n",
    "                     figure=(9, 7), vmax=1, vmin=-1,\n",
    "                     title='Covariance')"
   ]
  },
  {
   "cell_type": "markdown",
   "metadata": {},
   "source": [
    "And now display the corresponding graph\n",
    "----------------------------------------\n",
    "\n"
   ]
  },
  {
   "cell_type": "code",
   "execution_count": null,
   "metadata": {},
   "outputs": [],
   "source": [
    "coords = atlas.region_coords\n",
    "\n",
    "plotting.plot_connectome(estimator.covariance_, coords,\n",
    "                         title='Covariance')"
   ]
  },
  {
   "cell_type": "markdown",
   "metadata": {},
   "source": [
    "Display the sparse inverse covariance\n",
    "--------------------------------------\n",
    "we negate it to get partial correlations\n",
    "\n"
   ]
  },
  {
   "cell_type": "code",
   "execution_count": null,
   "metadata": {},
   "outputs": [],
   "source": [
    "plotting.plot_matrix(-estimator.precision_, labels=labels,\n",
    "                     figure=(9, 7), vmax=1, vmin=-1,\n",
    "                     title='Sparse inverse covariance')"
   ]
  },
  {
   "cell_type": "markdown",
   "metadata": {},
   "source": [
    "And now display the corresponding graph\n",
    "----------------------------------------\n",
    "\n"
   ]
  },
  {
   "cell_type": "code",
   "execution_count": null,
   "metadata": {},
   "outputs": [],
   "source": [
    "plotting.plot_connectome(-estimator.precision_, coords,\n",
    "                         title='Sparse inverse covariance')\n",
    "\n",
    "plotting.show()"
   ]
  }
 ],
 "metadata": {
  "kernelspec": {
   "display_name": "Python 3",
   "language": "python",
   "name": "python3"
  },
  "language_info": {
   "codemirror_mode": {
    "name": "ipython",
    "version": 3
   },
   "file_extension": ".py",
   "mimetype": "text/x-python",
   "name": "python",
   "nbconvert_exporter": "python",
   "pygments_lexer": "ipython3",
   "version": "3.6.5"
  }
 },
 "nbformat": 4,
 "nbformat_minor": 1
}
